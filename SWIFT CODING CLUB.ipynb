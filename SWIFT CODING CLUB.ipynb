{
 "cells": [
  {
   "cell_type": "code",
   "execution_count": null,
   "id": "408cd144",
   "metadata": {},
   "outputs": [],
   "source": [
    "import os\n",
    "import cv2\n",
    "import numpy as np\n",
    "import pandas as pd\n",
    "\n",
    "\n",
    "\n",
    "from tensorflow import keras\n",
    "from keras.layers import Conv2D, Dense, Dropout, Flatten\n",
    "from keras.models import Sequential\n",
    "from matplotlib import pyplot\n",
    "from sklearn.metrics import classification_report\n",
    "from sklearn.metrics import confusion_matrix\n",
    "from sklearn.metrics import recall_score, precision_score\n",
    "import seaborn as sns\n",
    "from keras.utils.np_utils import to_categorical\n",
    "import matplotlib.pyplot as plt\n",
    "\n",
    "import tensorflow as tf\n",
    "from keras.models import Model\n",
    "from keras.models import model_from_json\n",
    "from keras.preprocessing import image\n",
    "from tensorflow.keras import optimizers\n",
    "from tensorflow.keras.applications import Xception"
   ]
  },
  {
   "cell_type": "code",
   "execution_count": null,
   "id": "11ad950b",
   "metadata": {},
   "outputs": [],
   "source": [
    "def load_subdata(data):\n",
    "    X1 = []\n",
    "    y1 = []\n",
    "    size = 229\n",
    "    lbl = 0\n",
    "    dic = {}\n",
    "    for folder_name in os.listdir(data):\n",
    "        \n",
    "        Label = lbl\n",
    "        dic[folder_name] = Label  \n",
    "        count_imag = 0;\n",
    "\n",
    "        for filename in os.listdir(data + '/' + folder_name):\n",
    "            image = tf.keras.preprocessing.image.load_img(data +'/'+ folder_name + '/' + filename,color_mode='rgb', target_size=(size,size))\n",
    "            arr = keras.preprocessing.image.img_to_array(image)\n",
    "            X1.append(np.array([arr]))\n",
    "            y1.append(Label) \n",
    "        lbl +=1   \n",
    "         \n",
    "    X1 = np.asarray(X1).reshape(len(X1),229,229,3).astype(np.uint8)\n",
    "    y1 = np.asarray(y1).astype(np.uint8)\n",
    "    return X1,y1, dic"
   ]
  },
  {
   "cell_type": "code",
   "execution_count": null,
   "id": "9833b9b7",
   "metadata": {},
   "outputs": [],
   "source": [
    "X_train, y_train, label_dic = load_subdata('D:/train')\n",
    "X_test, y_test, test_label_dic = load_subdata('D:/test')    \n",
    "X_val, y_val, val_label_dic = load_subdata('D:/val')"
   ]
  },
  {
   "cell_type": "code",
   "execution_count": null,
   "id": "8dfd46a6",
   "metadata": {},
   "outputs": [],
   "source": [
    "print(\"Training Images Shape (x train shape) :\", X_train.shape)\n",
    "print(\"Label of training images (y train shape) :\",y_train.shape)\n",
    "\n",
    "print(\"Validation Images Shape (x val shape) :\",X_val.shape)\n",
    "print(\"Label of Validation images (y val shape) :\",y_val.shape)\n",
    "\n",
    "print(\"Test Images Shape (x val shape) :\",X_test.shape)\n",
    "print(\"Label of Test images (y val shape) :\",y_test.shape)"
   ]
  },
  {
   "cell_type": "code",
   "execution_count": 5,
   "id": "b4e8c415",
   "metadata": {},
   "outputs": [],
   "source": [
    "unique, counts = np.unique(y_train, return_counts=True)\n",
    "label_count = dict(zip(unique, counts))"
   ]
  },
  {
   "cell_type": "code",
   "execution_count": 6,
   "id": "f4845663",
   "metadata": {},
   "outputs": [],
   "source": [
    "y_trainHot = np.uint8(to_categorical(y_train, num_classes = 93))\n",
    "y_testHot = np.uint8(to_categorical(y_test, num_classes = 93))\n",
    "y_valHot = np.uint8(to_categorical(y_val, num_classes = 93))"
   ]
  },
  {
   "cell_type": "code",
   "execution_count": 7,
   "id": "b502a8a5",
   "metadata": {},
   "outputs": [],
   "source": [
    "def shuffle(a, b):\n",
    "    shuffled_a = np.empty(a.shape, dtype=np.uint8)\n",
    "    shuffled_b = np.empty(b.shape, dtype=np.uint8)\n",
    "    permutation = np.random.permutation(len(a))\n",
    "    for old_index, new_index in enumerate(permutation):\n",
    "        shuffled_a[new_index] = a[old_index]\n",
    "        shuffled_b[new_index] = b[old_index]\n",
    "    return shuffled_a, shuffled_b"
   ]
  },
  {
   "cell_type": "code",
   "execution_count": 8,
   "id": "5797ef61",
   "metadata": {},
   "outputs": [],
   "source": [
    "X_train_s, y_train_s = shuffle(X_train, y_trainHot)\n",
    "X_test_s, y_test_s = shuffle(X_test, y_testHot)\n",
    "X_val_s, y_val_s = shuffle(X_val, y_valHot)"
   ]
  },
  {
   "cell_type": "code",
   "execution_count": 9,
   "id": "bec51037",
   "metadata": {},
   "outputs": [
    {
     "name": "stdout",
     "output_type": "stream",
     "text": [
      "One hot encoded labels\n",
      "(6391, 93)\n",
      "(887, 93)\n",
      "(762, 93)\n"
     ]
    }
   ],
   "source": [
    "print(\"One hot encoded labels\")\n",
    "print(y_train_s.shape)\n",
    "print(y_test_s.shape)\n",
    "print(y_val_s.shape)"
   ]
  },
  {
   "cell_type": "code",
   "execution_count": null,
   "id": "17530720",
   "metadata": {},
   "outputs": [],
   "source": [
    "plt.figure(figsize=(10,10))\n",
    "plt.title('Random Image from Dataset')\n",
    "for i in range(25):\n",
    "    plt.subplot(5,5,i+1)\n",
    "    plt.xticks([])\n",
    "    plt.yticks([])\n",
    "    plt.grid(False)\n",
    "    plt.imshow(X_val_s[i])\n",
    "    \n",
    "plt.show()"
   ]
  },
  {
   "cell_type": "code",
   "execution_count": null,
   "id": "2f7c09fe",
   "metadata": {},
   "outputs": [],
   "source": [
    "def Xception_Net():\n",
    "    base_model =tf.keras.applications.Xception(input_shape = (229, 229, 3), # Shape of our images\n",
    "                                 include_top = False, \n",
    "                                 weights = 'imagenet',pooling='avg',classes=93)\n",
    "    base_model.trainable = True \n",
    "    base_model.layers[0].trainable=False\n",
    "    prediction_layer = Dense(units=93, activation='softmax') \n",
    "    model = Sequential()\n",
    "    model.add(base_model)\n",
    "    model.add(Dropout(0.5))\n",
    "    model.add(Flatten())\n",
    "    model.add(prediction_layer)\n",
    "    return model"
   ]
  },
  {
   "cell_type": "code",
   "execution_count": null,
   "id": "d465d413",
   "metadata": {},
   "outputs": [],
   "source": [
    "xcep_model=Xception_Net()"
   ]
  },
  {
   "cell_type": "code",
   "execution_count": null,
   "id": "1f3aabf9",
   "metadata": {},
   "outputs": [],
   "source": [
    "xcep_model.compile(loss = 'categorical_crossentropy', optimizer = keras.optimizers.Adam(learning_rate=0.0001),\n",
    "              metrics = ['accuracy']) #when the learning rate was set to 0.01, the model showed a poor performance comparated to lr=0.0001\n",
    "xcep_model.summary()"
   ]
  },
  {
   "cell_type": "code",
   "execution_count": null,
   "id": "55f58a0d",
   "metadata": {
    "scrolled": false
   },
   "outputs": [],
   "source": [
    "hist =xcep_model.fit(X_train_s, y_train_s, epochs=10,batch_size=64,validation_data=(X_val_s,y_val_s))"
   ]
  },
  {
   "cell_type": "code",
   "execution_count": null,
   "id": "259cfb90",
   "metadata": {},
   "outputs": [],
   "source": [
    "def plot_model(history):\n",
    "    fig,(ax1,ax2)=plt.subplots(1,2,figsize=(12,4))\n",
    "    fig.suptitle('Model Accuracy and Loss')\n",
    "\n",
    "    ax1.plot(hist.history['accuracy'])\n",
    "    ax1.plot(hist.history['val_accuracy'])\n",
    "    ax1.title.set_text('Accuracy')\n",
    "    ax1.set_ylabel('Accuracy')\n",
    "    ax1.set_xlabel('Epoch')\n",
    "    ax1.legend(['Train','Valid'],loc=4)\n",
    "\n",
    "    ax2.plot(hist.history['loss'])\n",
    "    ax2.plot(hist.history['val_loss'])\n",
    "    ax2.title.set_text('Loss')\n",
    "    ax2.set_ylabel('Loss')\n",
    "    ax2.set_xlabel('Epoch')\n",
    "    ax2.legend(['Train','Valid'],loc=1)\n",
    "\n",
    "    fig.show()\n",
    "    \n",
    "plot_model(hist)\n"
   ]
  },
  {
   "cell_type": "code",
   "execution_count": null,
   "id": "b6ec3842",
   "metadata": {},
   "outputs": [],
   "source": [
    "def plot_cf_mat(cf_matrix):\n",
    "    \n",
    "    classes = list(label_dic.keys())\n",
    "    plt.rcParams[\"figure.figsize\"] = (10,7)\n",
    "    ax = plt.axes()\n",
    "    sns.heatmap(cf_matrix, annot=True, \n",
    "              annot_kws={\"size\": 10}, \n",
    "              xticklabels=classes, \n",
    "              yticklabels=classes, ax = ax,fmt=\"d\")\n",
    "    ax.set_title('Confusion matrix')\n",
    "    ax.set_xlabel(\"Predicted\")\n",
    "    ax.set_ylabel(\"Actual\")\n",
    "    plt.show()"
   ]
  },
  {
   "cell_type": "code",
   "execution_count": null,
   "id": "9922431b",
   "metadata": {},
   "outputs": [],
   "source": [
    "def model_Evaluate(model):\n",
    "    \n",
    "    # Predict values for Test dataset\n",
    "    y_pred = model.predict(X_test_s)\n",
    "    y_test = y_test_s\n",
    "    Y_pred = np.argmax(y_pred, axis=1)\n",
    "    Y_Test = np.argmax(y_test, axis=1)\n",
    "    \n",
    "    class_names = list(label_dic.keys())\n",
    "    print(\"Classification Report:\")\n",
    "    \n",
    "    # Print the evaluation metrics for the dataset.\n",
    "    print(classification_report(Y_Test, Y_pred, target_names=class_names))\n",
    "    \n",
    "    # Compute and plot the Confusion matrix\n",
    "    cf_matrix = confusion_matrix(Y_Test, Y_pred)\n",
    "    \n",
    "    accuracy = recall_score(Y_Test, Y_pred, average=None)\n",
    "    precision=precision_score(Y_Test,Y_pred,average=None)\n",
    "\n",
    "    #class_names = class_names\n",
    "    class_names = list(label_dic.keys())\n",
    "\n",
    "    print(\"Confusion Matrix:\")\n",
    "\n",
    "    print(cf_matrix)\n",
    "    plot_cf_mat(cf_matrix)\n",
    "    ## Display the visualization of the Confusion Matrix.\n",
    "    plt.show()\n",
    "    \n",
    "    print(\"Accuracy for each class: \")\n",
    "    \n",
    "    for i in range(len(accuracy)):\n",
    "        print(f\"{class_names[i]}:  {format(accuracy[i]*100, '.2f')}%\")\n",
    "    return accuracy,precision"
   ]
  },
  {
   "cell_type": "code",
   "execution_count": null,
   "id": "1a4b6cf2",
   "metadata": {},
   "outputs": [],
   "source": [
    "accuracy_xcep, precision_xcep = model_Evaluate(xcep_model)"
   ]
  },
  {
   "cell_type": "code",
   "execution_count": null,
   "id": "fef0af12",
   "metadata": {},
   "outputs": [],
   "source": [
    "Xception_Model = xcep_model.to_json()\n",
    "with open(\"xcep_model.json\", \"w\") as json_file:\n",
    "    json_file.write(Xception_Model)\n",
    "# serialize weights to HDF5\n",
    "xcep_model.save_weights(\"xcep_model.h5\")\n",
    "print(\"Saved model to disk\")"
   ]
  },
  {
   "cell_type": "code",
   "execution_count": null,
   "id": "fda356fd",
   "metadata": {},
   "outputs": [],
   "source": [
    "from keras.models import model_from_json\n",
    "json_file = open('xcep_model.json', 'r')\n",
    "Xception_Model_json = json_file.read()\n",
    "json_file.close()\n",
    "Xception_Model = model_from_json(Xception_Model_json)\n",
    "# load weights into new model\n",
    "Xception_Model.load_weights(\"xcep_model.h5\")\n",
    "print(\"Loaded model from disk\")"
   ]
  },
  {
   "cell_type": "code",
   "execution_count": null,
   "id": "c6ee3125",
   "metadata": {},
   "outputs": [],
   "source": [
    "print(\"Printing layers of Model :\")\n",
    "for layer in Xception_Model.layers:\n",
    "    print(layer)\n",
    "\n",
    "print()\n",
    "print(\"Feature extraction from the model:\")\n",
    "feature_layer = Xception_Model.get_layer('xception')\n",
    "print(feature_layer)"
   ]
  },
  {
   "cell_type": "code",
   "execution_count": null,
   "id": "c7640efb",
   "metadata": {},
   "outputs": [],
   "source": [
    "xcep_feature_model = keras.Model(inputs = feature_layer.inputs, outputs = feature_layer.outputs)"
   ]
  },
  {
   "cell_type": "code",
   "execution_count": null,
   "id": "8d040d70",
   "metadata": {},
   "outputs": [],
   "source": [
    "print(\"Xception Model Architecture\")\n",
    "keras.utils.plot_model(xcep_feature_model,'Inception_Model.png',show_shapes=True, show_layer_names=False, rankdir='TB', expand_nested=True, dpi=75)"
   ]
  },
  {
   "cell_type": "code",
   "execution_count": null,
   "id": "21c0111c",
   "metadata": {},
   "outputs": [],
   "source": []
  },
  {
   "cell_type": "code",
   "execution_count": null,
   "id": "1b08f738",
   "metadata": {},
   "outputs": [],
   "source": []
  },
  {
   "cell_type": "code",
   "execution_count": null,
   "id": "48c9e2cc",
   "metadata": {},
   "outputs": [],
   "source": []
  },
  {
   "cell_type": "code",
   "execution_count": null,
   "id": "db90a950",
   "metadata": {},
   "outputs": [],
   "source": []
  },
  {
   "cell_type": "code",
   "execution_count": null,
   "id": "d4d8a26b",
   "metadata": {},
   "outputs": [],
   "source": []
  }
 ],
 "metadata": {
  "kernelspec": {
   "display_name": "Python 3 (ipykernel)",
   "language": "python",
   "name": "python3"
  },
  "language_info": {
   "codemirror_mode": {
    "name": "ipython",
    "version": 3
   },
   "file_extension": ".py",
   "mimetype": "text/x-python",
   "name": "python",
   "nbconvert_exporter": "python",
   "pygments_lexer": "ipython3",
   "version": "3.10.9"
  }
 },
 "nbformat": 4,
 "nbformat_minor": 5
}
